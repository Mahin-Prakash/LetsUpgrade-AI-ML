{
 "cells": [
  {
   "cell_type": "code",
   "execution_count": 10,
   "metadata": {},
   "outputs": [],
   "source": [
    "#Question-1\n",
    "f1=open(\"Text.txt\",\"r\")\n",
    "f2=open(\"Text-2.txt\",\"w\")\n",
    "r=f1.readlines()\n",
    "for i in r:\n",
    "    f2.write(i)\n",
    "f1.close()\n",
    "f2.close()\n",
    "\n",
    "    "
   ]
  },
  {
   "cell_type": "code",
   "execution_count": 15,
   "metadata": {},
   "outputs": [
    {
     "name": "stdout",
     "output_type": "stream",
     "text": [
      "Maximum Value: 78\n",
      "Minimum Value: 10\n"
     ]
    }
   ],
   "source": [
    "#Question-2\n",
    "a={1:10,2:54,3:36,4:78,5:15}\n",
    "b=[]\n",
    "for i in a.keys():\n",
    "    b.append(a.get(i))\n",
    "for i in range(len(b)):\n",
    "    for j in range(len(b)-1):\n",
    "        if b[j]>b[j+1]:\n",
    "            b[j],b[j+1]=b[j+1],b[j]\n",
    "print(\"Maximum Value:\",b[-1])\n",
    "print(\"Minimum Value:\",b[0])\n",
    "    "
   ]
  }
 ],
 "metadata": {
  "kernelspec": {
   "display_name": "Python 3",
   "language": "python",
   "name": "python3"
  },
  "language_info": {
   "codemirror_mode": {
    "name": "ipython",
    "version": 3
   },
   "file_extension": ".py",
   "mimetype": "text/x-python",
   "name": "python",
   "nbconvert_exporter": "python",
   "pygments_lexer": "ipython3",
   "version": "3.8.3"
  }
 },
 "nbformat": 4,
 "nbformat_minor": 4
}
