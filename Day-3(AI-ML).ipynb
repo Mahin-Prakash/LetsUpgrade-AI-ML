{
 "cells": [
  {
   "cell_type": "code",
   "execution_count": 1,
   "metadata": {},
   "outputs": [
    {
     "name": "stdout",
     "output_type": "stream",
     "text": [
      "Result: (5+2j)\n"
     ]
    }
   ],
   "source": [
    "#Program-1\n",
    "a=10+5j\n",
    "b=5+3j\n",
    "c=a-b\n",
    "print(\"Result:\",c)"
   ]
  },
  {
   "cell_type": "code",
   "execution_count": 2,
   "metadata": {},
   "outputs": [
    {
     "name": "stdout",
     "output_type": "stream",
     "text": [
      "Enter a no:16\n",
      "Fourth root: 2.0\n"
     ]
    }
   ],
   "source": [
    "#Program-2\n",
    "import math\n",
    "a=int(input(\"Enter a no:\"))\n",
    "b=math.sqrt(a)\n",
    "c=math.sqrt(b)\n",
    "print(\"Fourth root:\",c)"
   ]
  },
  {
   "cell_type": "code",
   "execution_count": 1,
   "metadata": {},
   "outputs": [
    {
     "name": "stdout",
     "output_type": "stream",
     "text": [
      "Enter first no:10\n",
      "Enter second no:30\n",
      "After Swapping:-\n",
      "First no: 30\n",
      "Second no: 10\n"
     ]
    }
   ],
   "source": [
    "#Program-3\n",
    "a=int(input(\"Enter first no:\"))\n",
    "b=int(input(\"Enter second no:\"))\n",
    "print(\"After Swapping:-\")\n",
    "c=a\n",
    "a=b\n",
    "b=c\n",
    "print(\"First no:\",a)\n",
    "print(\"Second no:\",b)"
   ]
  },
  {
   "cell_type": "code",
   "execution_count": 2,
   "metadata": {},
   "outputs": [
    {
     "name": "stdout",
     "output_type": "stream",
     "text": [
      "Enter first no:10\n",
      "Enter second no:30\n",
      "After Swapping:-\n",
      "First no: 30\n",
      "Second no: 10\n"
     ]
    }
   ],
   "source": [
    "#Program-4\n",
    "a=int(input(\"Enter first no:\"))\n",
    "b=int(input(\"Enter second no:\"))\n",
    "print(\"After Swapping:-\")\n",
    "a,b=b,a\n",
    "print(\"First no:\",a)\n",
    "print(\"Second no:\",b)"
   ]
  },
  {
   "cell_type": "code",
   "execution_count": 5,
   "metadata": {},
   "outputs": [
    {
     "name": "stdout",
     "output_type": "stream",
     "text": [
      "Enter Celsius:10\n",
      "Enter Fahrenheit:32\n",
      "Celsius converted to Fahrenheit: 50.0\n",
      "Fahrenheit converted to Celsius: 0.0\n"
     ]
    }
   ],
   "source": [
    "#Program-5\n",
    "a=int(input(\"Enter Celsius:\"))\n",
    "b=int(input(\"Enter Fahrenheit:\"))\n",
    "c=(a*9/5)+32\n",
    "d=(b-32)*5/9\n",
    "print(\"Celsius converted to Fahrenheit:\",c)\n",
    "print(\"Fahrenheit converted to Celsius:\",d)"
   ]
  },
  {
   "cell_type": "code",
   "execution_count": 9,
   "metadata": {},
   "outputs": [
    {
     "name": "stdout",
     "output_type": "stream",
     "text": [
      "1. <class 'int'>\n",
      "2. <class 'float'>\n",
      "3. <class 'list'>\n",
      "4. <class 'tuple'>\n",
      "5. <class 'str'>\n",
      "6. <class 'dict'>\n"
     ]
    }
   ],
   "source": [
    "#Program-6\n",
    "a=10\n",
    "b=10.23\n",
    "c=[1,2,3,4]\n",
    "d=(1,2,3,4)\n",
    "e=\"Artificial Intelligence\"\n",
    "f={'key1':12,'key2':56}\n",
    "print(\"1.\",type(a))\n",
    "print(\"2.\",type(b))\n",
    "print(\"3.\",type(c))\n",
    "print(\"4.\",type(d))\n",
    "print(\"5.\",type(e))\n",
    "print(\"6.\",type(f))\n"
   ]
  }
 ],
 "metadata": {
  "kernelspec": {
   "display_name": "Python 3",
   "language": "python",
   "name": "python3"
  },
  "language_info": {
   "codemirror_mode": {
    "name": "ipython",
    "version": 3
   },
   "file_extension": ".py",
   "mimetype": "text/x-python",
   "name": "python",
   "nbconvert_exporter": "python",
   "pygments_lexer": "ipython3",
   "version": "3.8.3"
  }
 },
 "nbformat": 4,
 "nbformat_minor": 4
}
