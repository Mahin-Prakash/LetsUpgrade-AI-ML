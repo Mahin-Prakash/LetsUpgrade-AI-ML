{
 "cells": [
  {
   "cell_type": "code",
   "execution_count": 23,
   "metadata": {},
   "outputs": [
    {
     "name": "stdout",
     "output_type": "stream",
     "text": [
      "3\n",
      "5\n",
      "7\n",
      "11\n",
      "13\n",
      "17\n",
      "19\n",
      "23\n",
      "29\n",
      "31\n",
      "37\n",
      "41\n",
      "43\n",
      "47\n",
      "53\n",
      "59\n",
      "61\n",
      "67\n",
      "71\n",
      "73\n"
     ]
    }
   ],
   "source": [
    "#Program-1\n",
    "for i in range(1,75):\n",
    " if i>1:\n",
    "    for j in range(2,i):\n",
    "        if (i%j)==0:\n",
    "                 break\n",
    "    else:\n",
    "        if i%2!=0:\n",
    "            print(i)\n",
    "             "
   ]
  },
  {
   "cell_type": "code",
   "execution_count": 14,
   "metadata": {},
   "outputs": [
    {
     "name": "stdout",
     "output_type": "stream",
     "text": [
      "1.lower()- artificial intelligence \n",
      "2.upper()- ARTIFICIAL INTELLIGENCE \n",
      "3.islower()- False\n",
      "4.isupper()- False\n",
      "5.isdigit()- False\n",
      "6.isalpha()- False\n",
      "7.index()- 1\n",
      "8.strip()- artificial Intelligence\n",
      "9.lstrip()- artificial Intelligence \n",
      "10.rstrip()- artificial Intelligence\n",
      "11.isspace()- False\n",
      "12.split()- ['artificial', 'Intelligence']\n",
      "13.capitalize()- Artificial intelligence \n",
      "14.startswith()- True\n",
      "15.count()- 2\n"
     ]
    }
   ],
   "source": [
    "#Program-2\n",
    "a=\"artificial Intelligence \" \n",
    "print(\"1.lower()-\",a.lower())\n",
    "print(\"2.upper()-\",a.upper())\n",
    "print(\"3.islower()-\",a.islower())\n",
    "print(\"4.isupper()-\",a.isupper())\n",
    "print(\"5.isdigit()-\",a.isdigit())\n",
    "print(\"6.isalpha()-\",a.isalpha())\n",
    "print(\"7.index()-\",a.index(\"r\"))\n",
    "print(\"8.strip()-\",a.strip())\n",
    "print(\"9.lstrip()-\",a.lstrip())\n",
    "print(\"10.rstrip()-\",a.rstrip())\n",
    "print(\"11.isspace()-\",a.isspace())\n",
    "print(\"12.split()-\",a.split())\n",
    "print(\"13.capitalize()-\",a.capitalize())\n",
    "print(\"14.startswith()-\",a.startswith(\"a\"))\n",
    "print(\"15.count()-\",a.count(\"a\"))"
   ]
  },
  {
   "cell_type": "code",
   "execution_count": 18,
   "metadata": {},
   "outputs": [
    {
     "name": "stdout",
     "output_type": "stream",
     "text": [
      "Enter a String:mam\n",
      "It is a Palindrome!\n"
     ]
    }
   ],
   "source": [
    "#Program-3\n",
    "a=input(\"Enter a String:\")\n",
    "b=a[::-1]\n",
    "if a==b:\n",
    "    print(\"It is a Palindrome!\")\n",
    "else:\n",
    "    print(\"It is not a Palindrome!\")\n"
   ]
  },
  {
   "cell_type": "code",
   "execution_count": 20,
   "metadata": {},
   "outputs": [
    {
     "name": "stdout",
     "output_type": "stream",
     "text": [
      "Enter a String:Artificial Intelli@gence\n",
      "Result: artificialintelligence\n"
     ]
    }
   ],
   "source": [
    "#Program-4\n",
    "def string(a):\n",
    "    b=\"\"\n",
    "    for i in a:\n",
    "        if i.isalpha():\n",
    "            b=b+i\n",
    "    return b\n",
    "a=input(\"Enter a String:\")\n",
    "print(\"Result:\",string(a).lower())\n",
    "    "
   ]
  }
 ],
 "metadata": {
  "kernelspec": {
   "display_name": "Python 3",
   "language": "python",
   "name": "python3"
  },
  "language_info": {
   "codemirror_mode": {
    "name": "ipython",
    "version": 3
   },
   "file_extension": ".py",
   "mimetype": "text/x-python",
   "name": "python",
   "nbconvert_exporter": "python",
   "pygments_lexer": "ipython3",
   "version": "3.8.3"
  }
 },
 "nbformat": 4,
 "nbformat_minor": 4
}
