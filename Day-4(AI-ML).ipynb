{
 "cells": [
  {
   "cell_type": "code",
   "execution_count": 8,
   "metadata": {},
   "outputs": [
    {
     "name": "stdout",
     "output_type": "stream",
     "text": [
      "Sum: (13+13j)\n",
      "Difference: (7+3j)\n",
      "Product: (-10+74j)\n",
      "Quotient: (2.058823529411765-0.7647058823529412j)\n",
      "Floor Division:Not Possible\n",
      "Modulus:Not Possible\n"
     ]
    }
   ],
   "source": [
    "#Question-1\n",
    "a=10+8j\n",
    "b=3+5j\n",
    "print(\"Sum:\",a+b)\n",
    "print(\"Difference:\",a-b)\n",
    "print(\"Product:\",a*b)\n",
    "print(\"Quotient:\",a/b)\n",
    "print(\"Floor Division:Not Possible\")\n",
    "print(\"Modulus:Not Possible\")"
   ]
  },
  {
   "cell_type": "markdown",
   "metadata": {},
   "source": [
    "Question-2\n",
    "--\n",
    "___Range Function___\n",
    "\n",
    "The Range Function is basically used while using for-loop inorder to set the lower limit(value from which iteration starts),\n",
    "upper limit(the iteration stops before this value) and also the step value.\n",
    "\n",
    "__Syntax of range__:\n",
    "\n",
    "for i in range(lower limit,upper limit,step value):\n",
    "\n",
    "__Example__:\n",
    "\n",
    "a=[1,2,4,5]\n",
    "\n",
    "for i in range(0,4):\n",
    " \n",
    " print(i)"
   ]
  },
  {
   "cell_type": "code",
   "execution_count": 3,
   "metadata": {},
   "outputs": [
    {
     "name": "stdout",
     "output_type": "stream",
     "text": [
      "Enter First No:10\n",
      "Enter Second No:2\n",
      "Quotient: 5.0\n"
     ]
    }
   ],
   "source": [
    "#Question-3\n",
    "a=int(input(\"Enter First No:\"))\n",
    "b=int(input(\"Enter Second No:\"))\n",
    "c=a-b\n",
    "if c>25:\n",
    " print(\"Product:\",a*b)\n",
    "else:\n",
    " print(\"Quotient:\",a/b)   "
   ]
  },
  {
   "cell_type": "code",
   "execution_count": 4,
   "metadata": {},
   "outputs": [
    {
     "name": "stdout",
     "output_type": "stream",
     "text": [
      "Valid Outputs:-\n",
      "2\n",
      "14\n",
      "34\n",
      "62\n",
      "98\n"
     ]
    }
   ],
   "source": [
    "#Question-4\n",
    "a=[1,2,3,4,5,6,7,8,9,10]\n",
    "print(\"Valid Outputs:-\")\n",
    "for i in a:\n",
    "    if i%2==0:\n",
    "        print((i**2)-2)"
   ]
  },
  {
   "cell_type": "code",
   "execution_count": 5,
   "metadata": {},
   "outputs": [
    {
     "name": "stdout",
     "output_type": "stream",
     "text": [
      "Valid Outputs:-\n",
      "24\n",
      "67\n",
      "45\n",
      "90\n"
     ]
    }
   ],
   "source": [
    "#Question-5\n",
    "a=[3,10,24,67,2,8,11,45,90,6]\n",
    "print(\"Valid Outputs:-\")\n",
    "for i in a:\n",
    "    if (i/2)>7:\n",
    "        print(i)"
   ]
  }
 ],
 "metadata": {
  "kernelspec": {
   "display_name": "Python 3",
   "language": "python",
   "name": "python3"
  },
  "language_info": {
   "codemirror_mode": {
    "name": "ipython",
    "version": 3
   },
   "file_extension": ".py",
   "mimetype": "text/x-python",
   "name": "python",
   "nbconvert_exporter": "python",
   "pygments_lexer": "ipython3",
   "version": "3.8.3"
  }
 },
 "nbformat": 4,
 "nbformat_minor": 4
}
