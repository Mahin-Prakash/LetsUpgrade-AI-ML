{
 "cells": [
  {
   "cell_type": "code",
   "execution_count": 8,
   "metadata": {},
   "outputs": [
    {
     "name": "stdout",
     "output_type": "stream",
     "text": [
      "Enter an email address:john@Google.com\n",
      "Company Name: Google\n"
     ]
    }
   ],
   "source": [
    "#Question-1\n",
    "a=input(\"Enter an email address:\")\n",
    "b=a.index(\"@\")+1\n",
    "c=a[b:-1]\n",
    "d=\"\"\n",
    "for i in c:\n",
    "    if i!=\".\":\n",
    "        d=d+i\n",
    "    else:\n",
    "        break\n",
    "print(\"Company Name:\",d)        "
   ]
  },
  {
   "cell_type": "code",
   "execution_count": 6,
   "metadata": {},
   "outputs": [
    {
     "name": "stdout",
     "output_type": "stream",
     "text": [
      "Enter a few words seperated by commas:without,hello,bag,world\n",
      "Words in Alphabetical order: bag,hello,without,world\n"
     ]
    }
   ],
   "source": [
    "#Question-2\n",
    "a=input(\"Enter a few words seperated by commas:\")\n",
    "b=a.split(\",\")\n",
    "b.sort()\n",
    "c=\"\"\n",
    "for i in b:\n",
    "   c=c+i+\",\"\n",
    "print(\"Words in Alphabetical order:\",c.strip(\",\"))\n",
    "    "
   ]
  },
  {
   "cell_type": "markdown",
   "metadata": {},
   "source": [
    "Question-3\n",
    "---\n",
    "A Set is a collection of unordered elements which are enclosed within curly braces\n",
    "\n",
    "unlike list when we print a set the elements in them as said will be unordered,also unlike\n",
    "\n",
    "lists sets are immutable.Some of the set functions are:-\n",
    "\n",
    "1)set.add()\n",
    "\n",
    "2)len(set)\n",
    "\n",
    "3)set.remove()\n",
    "\n",
    "4)set.pop()\n",
    "\n",
    "5)set.clear()\n",
    "\n",
    "6)set.union(set2)\n"
   ]
  },
  {
   "cell_type": "code",
   "execution_count": 14,
   "metadata": {},
   "outputs": [
    {
     "name": "stdout",
     "output_type": "stream",
     "text": [
      "Enter the set of numbers:1 3 4 6 7 8\n",
      "The Missing Numbers are:-\n",
      "2\n",
      "5\n"
     ]
    }
   ],
   "source": [
    "#Question-4\n",
    "a=input(\"Enter the set of numbers:\")\n",
    "b=int(a[-1])\n",
    "c=a.split()\n",
    "j=0\n",
    "print(\"The Missing Numbers are:-\")\n",
    "for i in range(1,b+1):\n",
    "    if i!=int(c[j]):\n",
    "        print(i)\n",
    "    else:\n",
    "        j=j+1\n",
    "    \n",
    "    "
   ]
  },
  {
   "cell_type": "code",
   "execution_count": 1,
   "metadata": {},
   "outputs": [
    {
     "name": "stdout",
     "output_type": "stream",
     "text": [
      "Enter the list:10 2 3 10 3 5 98 3 8\n",
      "List after removing duplicates:10,2,3,5,98,8"
     ]
    }
   ],
   "source": [
    "#Question-5\n",
    "a=input(\"Enter the list:\")\n",
    "b=a.split()\n",
    "j=[]\n",
    "for i in b:\n",
    "    if b.count(i)>1:\n",
    "        if i not in j:\n",
    "            j.append(i)\n",
    "    else:\n",
    "        j.append(i)\n",
    "print(\"List after removing duplicates:\"+j[0],end=\"\")\n",
    "for i in range(1,len(j)):\n",
    "    print(\",\",end=\"\")\n",
    "    print(j[i],end=\"\")\n",
    "    \n",
    "    "
   ]
  }
 ],
 "metadata": {
  "kernelspec": {
   "display_name": "Python 3",
   "language": "python",
   "name": "python3"
  },
  "language_info": {
   "codemirror_mode": {
    "name": "ipython",
    "version": 3
   },
   "file_extension": ".py",
   "mimetype": "text/x-python",
   "name": "python",
   "nbconvert_exporter": "python",
   "pygments_lexer": "ipython3",
   "version": "3.8.3"
  }
 },
 "nbformat": 4,
 "nbformat_minor": 4
}
